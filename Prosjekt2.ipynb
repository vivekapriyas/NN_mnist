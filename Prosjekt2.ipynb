{
 "cells": [
  {
   "cell_type": "markdown",
   "metadata": {},
   "source": [
    "<h1>\n",
    "    <center>\n",
    "        TMA4320 Prosjekt 2"
   ]
  },
  {
   "cell_type": "code",
   "execution_count": null,
   "metadata": {},
   "outputs": [],
   "source": [
    "import numpy as np\n",
    "import math\n",
    "import random "
   ]
  },
  {
   "cell_type": "code",
   "execution_count": null,
   "metadata": {},
   "outputs": [],
   "source": [
    "#Lager w_k og b_k\n",
    "\n",
    "def W(d=2):\n",
    "    w_k=np.random.randn(d,d)\n",
    "    return w_k\n",
    "\n",
    "def b(d=2):\n",
    "    b_k=np.random.randn(d)\n",
    "    return b_k\n",
    "print(W(2))\n",
    "print(b(2))"
   ]
  },
  {
   "cell_type": "code",
   "execution_count": null,
   "metadata": {},
   "outputs": [],
   "source": [
    "#Lager Z\n",
    "def n(x):\n",
    "    return (np.exp(x))/(np.exp(x)+1)\n",
    "\n",
    "def Z(Y_k, w, u, n):\n",
    "    vec=Y_k.transpose()@w + u*np.ones(((Y_k.transpose()@w).size), dtype=int)\n",
    "    return n(vec)\n",
    "\n",
    "print(Z(Y_k,w,u,n))"
   ]
  },
  {
   "cell_type": "code",
   "execution_count": null,
   "metadata": {},
   "outputs": [],
   "source": [
    "#lager J\n",
    "\n",
    "def J(Z,c):\n",
    "    return 0.5*np.linalg.norm(Z-c)**2\n"
   ]
  },
  {
   "cell_type": "code",
   "execution_count": null,
   "metadata": {},
   "outputs": [],
   "source": [
    "#lager neste U, dvs. parametrene\n",
    "\n",
    "def U_jPLussEn(Uj,tau,gradJ):\n",
    "    Uj = Uj - tau*gradJ\n",
    "    return Uj"
   ]
  },
  {
   "cell_type": "markdown",
   "metadata": {},
   "source": [
    "## Inkluderte funksjoner"
   ]
  },
  {
   "cell_type": "code",
   "execution_count": null,
   "metadata": {},
   "outputs": [],
   "source": [
    "def get_data_spiral_2d(n_samples=200):\n",
    "    '''Create \"observations\" for training.\n",
    "    \n",
    "    Creates n_samples dots on two intertwined spirals.\n",
    "    The dots are classified based on which spiral they belong to and\n",
    "    then fuzzed by perturbing the coordinates and permuting the ordering.'''\n",
    "    m1 = math.ceil(n_samples / 2)\n",
    "    m2 = n_samples - m1\n",
    "    \n",
    "    n_turns = 1.0\n",
    "    \n",
    "    phi1 = np.pi\n",
    "    d1 = make_spiral(m1, phi1, n_turns)\n",
    "\n",
    "    \n",
    "    phi2 = (phi1 + np.pi) % (2.0 * np.pi)\n",
    "    d2 = make_spiral(m2, phi2, n_turns)\n",
    "    \n",
    "    features = np.hstack((d1, d2))\n",
    "    labels = np.ones((n_samples,1), dtype='bool_')\n",
    "    labels[m1:] = False\n",
    "    \n",
    "    features = features + .05 * np.random.randn(*features.shape)\n",
    "    \n",
    "    indexes = np.random.permutation(n_samples)\n",
    "    features = features[:, indexes]\n",
    "    labels = labels[indexes]\n",
    "\n",
    "\n",
    "    return features, labels\n",
    "\n",
    "\n",
    "def make_spiral(m, phi, n_turns):\n",
    "    '''Makes points on a spiral\n",
    "    \n",
    "    This is a utility function for get_data_spiral_2d'''\n",
    "    r = np.linspace(0.1, 1.0, m)\n",
    "    a = np.linspace(0.1, 2.0 * np.pi * n_turns, m)\n",
    "    xs = r * np.cos(a + phi)\n",
    "    ys = r * np.sin(a + phi)\n",
    "    return np.stack([xs, ys])\n"
   ]
  }
 ],
 "metadata": {
  "kernelspec": {
   "display_name": "Python 3",
   "language": "python",
   "name": "python3"
  },
  "language_info": {
   "codemirror_mode": {
    "name": "ipython",
    "version": 3
   },
   "file_extension": ".py",
   "mimetype": "text/x-python",
   "name": "python",
   "nbconvert_exporter": "python",
   "pygments_lexer": "ipython3",
   "version": "3.7.1"
  }
 },
 "nbformat": 4,
 "nbformat_minor": 2
}
