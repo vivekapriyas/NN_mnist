{
 "cells": [
  {
   "cell_type": "markdown",
   "metadata": {},
   "source": [
    "<h1>\n",
    "    <center>\n",
    "        TMA4320 Prosjekt 2"
   ]
  },
  {
   "cell_type": "markdown",
   "metadata": {},
   "source": [
    "Formålet med prosjektet er å gi en introduksjon til maskinlæring, nærmere bestemt dyplæring og dype nevrale nettverk, ved egen implementering av algoritmene. \n",
    "Ideen er å trene dataprogrammet til å gjenkjenne bildeelementer i to ulike testproblemer. I det første testproblemet er problemstillingen forenklet til gjenkjenning av fargede datapunkt, mens i det andre testproblemet skal programmet kunne skille mellom to ulike håndskrevne sifre. \n",
    "Denne rapporten skal først presentere den grunneleggende algoritmen som benyttes i treningsfasen og hovedsaklig er lik for begge problemstillingene, før hver problemstilling blir framstilt i detalj.\n",
    "Valg av startparametre skal begrunnes og parametrene som ble funnet i treningsfasen skal presenteres. Deretter skal modellen med disse fikserte parametrene kjøres med nye data og resultatene bli lagt fram og diskutert."
   ]
  },
  {
   "cell_type": "code",
   "execution_count": null,
   "metadata": {},
   "outputs": [],
   "source": [
    "import numpy as np\n",
    "import math\n",
    "import random "
   ]
  },
  {
   "cell_type": "code",
   "execution_count": null,
   "metadata": {},
   "outputs": [],
   "source": [
    "#Lager w_k og b_k\n",
    "\n",
    "def W(d=2):\n",
    "    w_k=np.random.randn(d,d)\n",
    "    return w_k\n",
    "\n",
    "def b(d=2):\n",
    "    b_k=np.random.randn(d)\n",
    "    return b_k\n",
    "print(W(2))\n",
    "print(b(2))"
   ]
  },
  {
   "cell_type": "code",
   "execution_count": null,
   "metadata": {},
   "outputs": [],
   "source": [
    "h = 1\n",
    "#Finner Y_k+1\n",
    "#Trenger først sigma, aktiveringsfunksjonen\n",
    "def sigma(x):\n",
    "    #return(np.tanh(x))\n",
    "    #Dersom vi heller vil bruke max(), nå må x kun være vektor, denne må utvides:\n",
    "    if isinstance(x, (np.ndarray, list)):\n",
    "        returliste = []\n",
    "        for element in x:\n",
    "            returliste.append(max(element, 0))\n",
    "        return(np.array(returliste))\n",
    "    else:\n",
    "        return(max(0, x))\n",
    "    \n",
    "def checkArray(array, string):\n",
    "    if isinstance(array, list):\n",
    "        return(np.array(array))\n",
    "    elif not isinstance(array, np.ndarray):\n",
    "        raise ValueError(string, \"was not an np.ndarray.\")\n",
    "    \n",
    "def findNextYVec(Y_k, W_k, b_k):\n",
    "    #Denne funksjonen skal finne Y_k+1 = Y_k + h sigma(W_k * Y_k + b_k)\n",
    "    #Y er en matrise (nxn), W er en matrise (nxn) og b er en vektor\n",
    "    #Her er sigma en skalar funksjon som anvendes komponentvis på vektoren.\n",
    "    #All input skal være arrays, men b_k vil være den eneste som lager krøll\n",
    "    checkArray(b_k, 'b_k')\n",
    "    # Finner produktet W_k * Y_k og legger til b_k\n",
    "    vec_for_sigma = np.dot(W_k, Y_k) + b_k\n",
    "    #Anvender sigma elementvis\n",
    "    sigma_vec = sigma(vec_for_sigma)\n",
    "    #Avkommenter for å sjekke at sigma gjør som den skal\n",
    "    #print(vec_for_sigma)\n",
    "    #print(sigma_vec)\n",
    "    return(Y_k+h*sigma_vec)\n",
    "\n",
    "def findNextYMat(Y_k_mat, W_k, b_k):\n",
    "    #Shape[1] finner antall kolonner\n",
    "    #Shape[0] finner antall rader, dvs. samme som len()\n",
    "    numberOfColumns = Y_k_mat.shape[1]\n",
    "    nextYMat = np.array([np.array([0.0 for i in range(numberOfColumns)]) for e in range(Y_k_mat.shape[0])])\n",
    "    for column in range(numberOfColumns):\n",
    "        Y_k = Y_k_mat[:, column]\n",
    "        nextYMat[:, column] = findNextYVec(Y_k, W_k, b_k)\n",
    "    return(np.array(nextYMat))\n",
    "\n",
    "\n",
    "#Legger ved matrisene jeg har brukt for å sjekke at alt fungerer som det skal\n",
    "A = np.array([[1, 2], [2, 1]])\n",
    "Y_k_mat = np.array([np.array([-2, 1, 1]), np.array([1, 1, 1])])\n",
    "print(findNextYMat(Y_k_mat, A, np.array([1, 1])))\n",
    "#Her er altså b_k = [1, 1]\n"
   ]
  },
  {
   "cell_type": "code",
   "execution_count": null,
   "metadata": {},
   "outputs": [],
   "source": [
    "#Lager Z\n",
    "def n(x):\n",
    "    return (np.exp(x))/(np.exp(x)+1)\n",
    "\n",
    "def Z(Y_k, w, u, n):\n",
    "    vec=Y_k.transpose()@w + u*np.ones(((Y_k.transpose()@w).size), dtype=int)\n",
    "    return n(vec)\n",
    "\n",
    "print(Z(Y_k,w,u,n))"
   ]
  },
  {
   "cell_type": "code",
   "execution_count": null,
   "metadata": {},
   "outputs": [],
   "source": [
    "#lager J\n",
    "\n",
    "def J(Z,c):\n",
    "    return 0.5*np.linalg.norm(Z-c)**2\n"
   ]
  },
  {
   "cell_type": "code",
   "execution_count": null,
   "metadata": {},
   "outputs": [],
   "source": [
    "#lager neste U, dvs. parametrene\n",
    "\n",
    "def U_jPLussEn(Uj,tau,gradJ):\n",
    "    Uj = Uj - tau*gradJ\n",
    "    return Uj"
   ]
  },
  {
   "cell_type": "code",
   "execution_count": null,
   "metadata": {},
   "outputs": [],
   "source": [
    "#adam descent\n",
    "#litt usikker på hvordan disse ser ut i praksis da/hvorfor det fungerer\n",
    "\n",
    "def adam(m,v,j,gradJ,Uj):\n",
    "    beta1 = 0.9\n",
    "    beta2 = 0.999\n",
    "    alfa = 0.01\n",
    "    epsilon = 1E-8\n",
    "    g = gradJ\n",
    "\n",
    "    m = m + (1-beta1)*g\n",
    "    v = v + (1-beta2)*(g*g)\n",
    "\n",
    "    mj = m/(1-beta1**j)\n",
    "    vj = v/(1-beta2**j)\n",
    "\n",
    "    Uj = Uj - alfa*(mj/(np.sqrt(vj)+epsilon))\n",
    "\n",
    "    return Uj, m,v"
   ]
  },
  {
   "cell_type": "markdown",
   "metadata": {},
   "source": [
    "## Inkluderte funksjoner"
   ]
  },
  {
   "cell_type": "code",
   "execution_count": null,
   "metadata": {},
   "outputs": [],
   "source": [
    "def get_data_spiral_2d(n_samples=200):\n",
    "    '''Create \"observations\" for training.\n",
    "    \n",
    "    Creates n_samples dots on two intertwined spirals.\n",
    "    The dots are classified based on which spiral they belong to and\n",
    "    then fuzzed by perturbing the coordinates and permuting the ordering.'''\n",
    "    m1 = math.ceil(n_samples / 2)\n",
    "    m2 = n_samples - m1\n",
    "    \n",
    "    n_turns = 1.0\n",
    "    \n",
    "    phi1 = np.pi\n",
    "    d1 = make_spiral(m1, phi1, n_turns)\n",
    "\n",
    "    \n",
    "    phi2 = (phi1 + np.pi) % (2.0 * np.pi)\n",
    "    d2 = make_spiral(m2, phi2, n_turns)\n",
    "    \n",
    "    features = np.hstack((d1, d2))\n",
    "    labels = np.ones((n_samples,1), dtype='bool_')\n",
    "    labels[m1:] = False\n",
    "    \n",
    "    features = features + .05 * np.random.randn(*features.shape)\n",
    "    \n",
    "    indexes = np.random.permutation(n_samples)\n",
    "    features = features[:, indexes]\n",
    "    labels = labels[indexes]\n",
    "\n",
    "\n",
    "    return features, labels\n",
    "\n",
    "\n",
    "def make_spiral(m, phi, n_turns):\n",
    "    '''Makes points on a spiral\n",
    "    \n",
    "    This is a utility function for get_data_spiral_2d'''\n",
    "    r = np.linspace(0.1, 1.0, m)\n",
    "    a = np.linspace(0.1, 2.0 * np.pi * n_turns, m)\n",
    "    xs = r * np.cos(a + phi)\n",
    "    ys = r * np.sin(a + phi)\n",
    "    return np.stack([xs, ys])\n"
   ]
  }
 ],
 "metadata": {
  "kernelspec": {
   "display_name": "Python 3",
   "language": "python",
   "name": "python3"
  },
  "language_info": {
   "codemirror_mode": {
    "name": "ipython",
    "version": 3
   },
   "file_extension": ".py",
   "mimetype": "text/x-python",
   "name": "python",
   "nbconvert_exporter": "python",
   "pygments_lexer": "ipython3",
   "version": "3.7.4"
  }
 },
 "nbformat": 4,
 "nbformat_minor": 2
}
