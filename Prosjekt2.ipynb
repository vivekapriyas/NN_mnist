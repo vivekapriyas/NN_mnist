{
 "cells": [
  {
   "cell_type": "markdown",
   "metadata": {},
   "source": [
    "<h1>\n",
    "    <center>\n",
    "        TMA4320 Prosjekt 2"
   ]
  },
  {
   "cell_type": "markdown",
   "metadata": {},
   "source": [
    "## Innholdsfortegnelse\n",
    "\n",
    "### 1. Introduksjon\n",
    "### 2. Algoritme og hjelpefunksjoner\n",
    "### 3. Første testproblem: Punkter i planet\n",
    "### 4. Andre testproblem: MNIST - siffergjenkjenning\n",
    "### 5. Avslutning\n"
   ]
  },
  {
   "cell_type": "markdown",
   "metadata": {},
   "source": [
    "## 1. Introduksjon"
   ]
  },
  {
   "cell_type": "markdown",
   "metadata": {},
   "source": [
    "Formålet med prosjektet er å gi en introduksjon til maskinlæring, nærmere bestemt dyplæring og dype nevrale nettverk, ved egen implementering av algoritmene. \n",
    "Ideen er å trene dataprogrammet til å gjenkjenne bildeelementer i to ulike testproblemer. I det første testproblemet er problemstillingen forenklet til gjenkjenning av fargede datapunkt, mens i det andre testproblemet skal programmet kunne skille mellom to ulike håndskrevne sifre. \n",
    "Denne rapporten skal først presentere den grunneleggende algoritmen og dens hjelpefunksjoner som benyttes i treningsfasen og hovedsaklig er lik for begge problemstillingene, før hver problemstilling blir framstilt i detalj.\n",
    "Valg av startparametre skal begrunnes og parametrene som ble funnet i treningsfasen skal presenteres. Deretter skal modellen med disse fikserte parametrene kjøres med nye data og resultatene bli lagt fram og diskutert."
   ]
  },
  {
   "cell_type": "markdown",
   "metadata": {},
   "source": [
    "## 2. Algoritme og hjelpefunksjoner"
   ]
  },
  {
   "cell_type": "code",
   "execution_count": 29,
   "metadata": {},
   "outputs": [],
   "source": [
    "import numpy as np\n",
    "from matplotlib import pyplot as plt\n",
    "import math\n",
    "import random "
   ]
  },
  {
   "cell_type": "code",
   "execution_count": 46,
   "metadata": {},
   "outputs": [
    {
     "ename": "ImportError",
     "evalue": "cannot import name 'plot_model1' from 'plotting' (C:\\Users\\cfand\\Documents\\Dokumenter\\Vitber\\Prosjekt 2 Matte dyplæring\\prosjekt2\\plotting.py)",
     "output_type": "error",
     "traceback": [
      "\u001b[1;31m---------------------------------------------------------------------------\u001b[0m",
      "\u001b[1;31mImportError\u001b[0m                               Traceback (most recent call last)",
      "\u001b[1;32m<ipython-input-46-25ddb8a3f673>\u001b[0m in \u001b[0;36m<module>\u001b[1;34m\u001b[0m\n\u001b[0;32m      2\u001b[0m \u001b[1;32mfrom\u001b[0m \u001b[0mloader\u001b[0m \u001b[1;32mimport\u001b[0m \u001b[0mget_dataset\u001b[0m\u001b[1;33m\u001b[0m\u001b[1;33m\u001b[0m\u001b[0m\n\u001b[0;32m      3\u001b[0m \u001b[1;32mfrom\u001b[0m \u001b[0mspirals\u001b[0m \u001b[1;32mimport\u001b[0m \u001b[0mget_data_spiral_2d\u001b[0m\u001b[1;33m\u001b[0m\u001b[1;33m\u001b[0m\u001b[0m\n\u001b[1;32m----> 4\u001b[1;33m \u001b[1;32mfrom\u001b[0m \u001b[0mplotting\u001b[0m \u001b[1;32mimport\u001b[0m \u001b[0mplot_progression\u001b[0m\u001b[1;33m,\u001b[0m \u001b[0mplot_model1\u001b[0m\u001b[1;33m,\u001b[0m \u001b[0mplot_separation1\u001b[0m\u001b[1;33m\u001b[0m\u001b[1;33m\u001b[0m\u001b[0m\n\u001b[0m\u001b[0;32m      5\u001b[0m \u001b[1;32mfrom\u001b[0m \u001b[0mfiles\u001b[0m \u001b[1;32mimport\u001b[0m \u001b[0mwrite_spiral_to_file\u001b[0m\u001b[1;33m,\u001b[0m \u001b[0mread_spiral_from_file\u001b[0m\u001b[1;33m,\u001b[0m \u001b[0mwriteParams\u001b[0m\u001b[1;33m,\u001b[0m \u001b[0mreadParams\u001b[0m\u001b[1;33m\u001b[0m\u001b[1;33m\u001b[0m\u001b[0m\n",
      "\u001b[1;31mImportError\u001b[0m: cannot import name 'plot_model1' from 'plotting' (C:\\Users\\cfand\\Documents\\Dokumenter\\Vitber\\Prosjekt 2 Matte dyplæring\\prosjekt2\\plotting.py)"
     ]
    }
   ],
   "source": [
    "from loader import load_mnist\n",
    "from loader import get_dataset\n",
    "from spirals import get_data_spiral_2d\n",
    "from plotting import plot_progression, plot_model1, plot_separation1\n",
    "from files import write_spiral_to_file, read_spiral_from_file, writeParams, readParams\n"
   ]
  },
  {
   "cell_type": "markdown",
   "metadata": {},
   "source": [
    "Importerte funksjoner fra filer som er brukt i prosjektet. Disse er brukt for å generere data for det første testproblemet, lese inn data for bildene i MNIST for det andre testproblemet og for å plotte resultatet."
   ]
  },
  {
   "cell_type": "markdown",
   "metadata": {},
   "source": [
    "Algoritmen er blitt delt inn i flere mindre funksjoner for å forenkle kodestrukturen og gjøre den mer oversiktlig. \n",
    "Hovedsaklig er den delt inn i å transformere input-data mellom lagene, å bestemme gradienten til $J = \\frac{1}{2}||\\bf{Z-c}||$ med hensyn på vekter, bias, $\\omega$ og $\\mu$ og optimering av nettverket med hensyn på disse. I tillegg til dette kommer flere hjelpefunksjoner som benyttes av de overordnede funksjonene."
   ]
  },
  {
   "cell_type": "code",
   "execution_count": 31,
   "metadata": {},
   "outputs": [],
   "source": [
    "def getRandomParam(d=2, K=20):\n",
    "    w_k=np.random.randn(K,d,d)\n",
    "    b_k=np.random.randn(K,d)\n",
    "    omega = np.random.randn(d)\n",
    "    my = np.random.rand(1)\n",
    "    return w_k,b_k,omega, my"
   ]
  },
  {
   "cell_type": "markdown",
   "metadata": {},
   "source": [
    "Som sett ovenfor genererer getRandomParam tilfeldige startverdier for vekter, bias, $\\omega$ og $\\mu$ ved å trekke fra en standardnormalfordeling."
   ]
  },
  {
   "cell_type": "code",
   "execution_count": 32,
   "metadata": {},
   "outputs": [],
   "source": [
    "def sigma(x):\n",
    "    return(np.tanh(x))\n",
    "\n",
    "def sigma_diff(x):\n",
    "    return(1-np.tanh(x)**2)\n",
    "\n",
    "def eta(x):\n",
    "    x[x > 350] = 350\n",
    "    return(np.exp(x)/(np.exp(x)+1))\n",
    "\n",
    "def eta_diff(x):\n",
    "    x[x > 350] = 350\n",
    "    return np.exp(x)/(np.exp(x) + 1)**2"
   ]
  },
  {
   "cell_type": "markdown",
   "metadata": {},
   "source": [
    "Aktiveringsfunksjonen $\\sigma$ ovenfor benyttes i transformasjonen av $\\bf{Y_k}$ mellom lagene, mens $\\eta$ brukes i projiseringen fra siste lag på en skalar z. \n",
    "Både $\\sigma'$ og $\\eta'$ benyytes i utledningen av gradienten.\n",
    "\n",
    "Ved bruk av $\\exp(x)$ i $\\eta$ og $\\eta'$, vil datamaskinen gi overflow error for store x. Om man sender inn svært store $x$, er forskjellen på om $x = 350$ og $x = 700$ marginal, fordi funksjonene returnerer henholdsvis essensielt 1 og 0. Bruken av en maksverdi vil derfor fjerne overflow error, og minimalt endre returverdien. "
   ]
  },
  {
   "cell_type": "code",
   "execution_count": 33,
   "metadata": {},
   "outputs": [],
   "source": [
    "  def findNextYVec(Y_k, W_k, b_k, h):\n",
    "    vec_for_sigma = np.dot(W_k, Y_k) + b_k\n",
    "    sigma_vec = sigma(vec_for_sigma)\n",
    "    return(Y_k+h*sigma_vec)\n",
    "\n",
    "def findNextYMat(Y_k_mat, W_k, b_k, h):\n",
    "    numberOfColumns = Y_k_mat.shape[1]\n",
    "    nextYMat = np.zeros((Y_k_mat.shape[0], numberOfColumns))\n",
    "    for column in range(numberOfColumns):\n",
    "        Y_k = Y_k_mat[:, column]\n",
    "        nextYMat[:, column] = findNextYVec(Y_k, W_k, b_k, h)\n",
    "    return(np.array(nextYMat))"
   ]
  },
  {
   "cell_type": "markdown",
   "metadata": {},
   "source": [
    "Disse funksjonene brukes for å hente ut de transformerte bildene, dvs. anvende vektene og biasene. findNextYVec() finner for hvert enkelt bilde, mens findNextYMat() kaller findNextYVec() for å finne den transformerte bildesamlingen."
   ]
  },
  {
   "cell_type": "code",
   "execution_count": 34,
   "metadata": {},
   "outputs": [],
   "source": [
    "def findZvalue(Y_k_mat, w_vec, my):\n",
    "    vec_for_eta = np.dot(w_vec, Y_k_mat) + my\n",
    "    return(eta(vec_for_eta))\n",
    "\n",
    "def J(Z,c):\n",
    "    return 0.5*np.linalg.norm(Z-c)**2"
   ]
  },
  {
   "cell_type": "code",
   "execution_count": 35,
   "metadata": {
    "scrolled": false
   },
   "outputs": [],
   "source": [
    "def makeMatrixFromVec(a, b):\n",
    "    return_matrix = np.zeros((len(a), len(b)))\n",
    "    for i in range(len(b)):\n",
    "        return_matrix[:, i] = b[i]*a\n",
    "    return(return_matrix)\n",
    "\n",
    "def findGradJ(Z_vec, W_K, Y_K, Y_end, w_vec, c_vec, my, b_K, h, K):\n",
    "    #Regner ut et produkt som går igjen for å spare noen utregninger\n",
    "    prod_to_re_use = eta_diff(np.dot(w_vec, Y_end)+my)\n",
    "    \n",
    "    J_diff_my = np.dot(prod_to_re_use, Z_vec-c_vec)\n",
    "    \n",
    "    #Mellomregning:\n",
    "    diff_my_vec_for_product = np.multiply(Z_vec - c_vec, prod_to_re_use)\n",
    "    J_diff_w = np.dot(Y_end, diff_my_vec_for_product)\n",
    "    \n",
    "    P_K = makeMatrixFromVec(w_vec, np.multiply(Z_vec - c_vec, prod_to_re_use))\n",
    "\n",
    "    P_k_liste = [P_K]\n",
    "    for i in range(K-1, -1, -1):\n",
    "        WdotY = np.dot(W_K[i], Y_K[i])\n",
    "        b_i_mat = np.array([np.array([b_K[i][j] for e in range(WdotY.shape[1])]) for j in range(WdotY.shape[0])])\n",
    "        matrix_for_sigma_diff =  WdotY + b_i_mat\n",
    "        matrix_for_product = np.multiply(sigma_diff(matrix_for_sigma_diff), P_k_liste[0])\n",
    "        P_i = P_k_liste[0] + h * np.dot(np.transpose(W_K[i]), matrix_for_product)\n",
    "        P_k_liste.insert(0, P_i)\n",
    "    \n",
    "    J_diff_W_matrix = []\n",
    "    J_diff_b_vec = []\n",
    "    for j in range(K):\n",
    "        W_jY_j = np.dot(W_K[j], Y_K[j])\n",
    "        b_j_mat = np.array([np.array([b_K[j][c] for e in range(W_jY_j.shape[1])]) for c in range(W_jY_j.shape[0])])\n",
    "        one_vector = np.full((W_jY_j.shape[1]), 1)\n",
    "        J_diff_W_matrix.append(h*np.dot(P_k_liste[j+1]*sigma_diff(W_jY_j + b_j_mat), np.transpose(Y_K[j])))\n",
    "        J_diff_b_vec.append(h*np.dot(P_k_liste[j+1]*eta_diff(W_jY_j + b_j_mat), one_vector))\n",
    "        \n",
    "    \n",
    "    return(J_diff_W_matrix, J_diff_b_vec, J_diff_w, J_diff_my)"
   ]
  },
  {
   "cell_type": "markdown",
   "metadata": {},
   "source": [
    "Vi har valgt å representere vektorene våre som rene numpy array, altså uten å sette hvert element inni sin egen array.\n",
    "Da vil ikke vanlig @ eller np.dot gi ut en matrise, men en skalar. makeMatrixFromVec() håndterer prikkproduktet."
   ]
  },
  {
   "cell_type": "code",
   "execution_count": 36,
   "metadata": {},
   "outputs": [],
   "source": [
    "def newU(W_k,b_vec,w,my,tau,J_diff_W_matrix, J_diff_b_vec, J_diff_w, J_diff_my):\n",
    "    W_k = W_k - np.multiply(J_diff_W_matrix,tau)\n",
    "    b_vec = b_vec - np.multiply(J_diff_b_vec, tau)\n",
    "    w = w - tau*J_diff_w\n",
    "    my = my -tau*J_diff_my\n",
    "    return W_k, b_vec,w,my\n",
    "\n",
    "def adam2(m,v,g,j):\n",
    "    beta1 = 0.9\n",
    "    beta2 = 0.999\n",
    "    alpha = 0.01\n",
    "    epsilon = 1.0E-8\n",
    "\n",
    "    m = np.multiply(beta1,m) + np.multiply((1-beta1),g)\n",
    "    v = np.multiply(beta2,v) + np.multiply((1-beta2),np.multiply(g,g))\n",
    "    m_hat = np.multiply(m,1/(1-beta1**j))\n",
    "    v_hat = np.multiply(v,1/(1-beta2**j))\n",
    "    \n",
    "    J = np.multiply(alpha,np.multiply(m_hat,1/((np.sqrt(v_hat)+epsilon))))\n",
    "    \n",
    "    return m,v,J\n",
    "\n",
    "def getStartMandV(w,b,o,m):\n",
    "    mW = np.zeros_like(w)\n",
    "    mb = np.zeros_like(b)\n",
    "    mOmega = np.zeros_like(o)\n",
    "    mMy = np.zeros_like(m)\n",
    "\n",
    "    return mW,mb,mOmega,mMy"
   ]
  },
  {
   "cell_type": "markdown",
   "metadata": {},
   "source": [
    "Funksjonene ovenfor benyttes for å optimere vekter, bias, $\\omega$ og $\\mu$.\n",
    "newU tilsvarer en plain vanilla gradient descent, der vi følger gradienten i avtagende retning og der læringsparameteren $\\tau$ bestemmer hvor langt vi følger gradienten.\n",
    "\n",
    "Funksjonen adam2 tilsvarer ADAM descent metoden, som tilpasser læringsraten til parameteren, dvs. vi beveger oss ulik lengde langsmed gradienten med hensyn på ulike parametre.\n",
    "getStartMandV er en hjelpefunksjon som genererer startparametrene m og v, som fungerer som et slags gjennomsnitt og kvadrert gjennomsnitt av tidligere iterasjoners gradienter, for adamfunksjonen. Før første iterasjon ønsker vi å sette m=v=0 for alle parametre."
   ]
  },
  {
   "cell_type": "code",
   "execution_count": 37,
   "metadata": {},
   "outputs": [],
   "source": [
    "def success(z, int_labels):\n",
    "    z = np.asanyarray(np.around(z, 0), dtype = int)\n",
    "    sum = 0\n",
    "    for i in range(len(z)):\n",
    "        if z[i] == int_labels[i]:\n",
    "            sum += 1\n",
    "    return(sum/len(z))"
   ]
  },
  {
   "cell_type": "markdown",
   "metadata": {},
   "source": [
    "Funksjonen success() sammenlikner $Z$ med label for hvert bilde og returnerer prosentandelen som stemmer overens. "
   ]
  },
  {
   "cell_type": "code",
   "execution_count": 38,
   "metadata": {},
   "outputs": [],
   "source": [
    "def forward_function(Y_0, W_k, b_k, h):\n",
    "    Y_k = [Y_0]\n",
    "    for i in range(W_k.shape[0]):\n",
    "        Y_next = findNextYMat(Y_k[-1], W_k[i], b_k[i], h)\n",
    "        Y_k.append(Y_next)\n",
    "    return(np.array(Y_k))\n",
    "\n",
    "\n",
    "def last_function(Y_K_final, omega, my): \n",
    "    Z=findZvalue(Y_K_final, omega, my)\n",
    "    return Z  "
   ]
  },
  {
   "cell_type": "markdown",
   "metadata": {},
   "source": [
    "forward_function() og last_function() er hjelpefunksjoner for å plotte det første testproblemet. forward_function() tar den første matrisen $Y_{0}$ og finner den neste matrisen $Y_{k+1}$ ved hjelp av de lærte parameterne. Dette gjør den for alle lag $K$. last_function() tar derimot inn kun den siste matrisen $Y_{K}$ og returnerer $Z$ for denne. "
   ]
  },
  {
   "cell_type": "code",
   "execution_count": 39,
   "metadata": {},
   "outputs": [],
   "source": [
    "def plotJ(J_liste):\n",
    "    x_akse = np.arange(len(J_liste))\n",
    "    plt.scatter(x_akse, J_liste)\n",
    "    plt.xlabel(\"Iterasjoner\")\n",
    "    plt.ylabel(\"J\")\n",
    "    plt.figure(10)\n",
    "    plt.show()"
   ]
  },
  {
   "cell_type": "markdown",
   "metadata": {},
   "source": [
    "## 3. Første testproblem: Punkter i planet"
   ]
  },
  {
   "cell_type": "code",
   "execution_count": 40,
   "metadata": {},
   "outputs": [],
   "source": [
    "def trening(images, labels, AdamOrPlain = 'plain', n=1000, h = 0.05, K = 20):\n",
    "    d = 2\n",
    "    W_k, b_k, omega, my = getRandomParam(d, K)\n",
    "    W_k = np.dot(W_k, 1/(d**2))\n",
    "    omega = np.dot(omega, 1/(d**2))\n",
    "\n",
    "    if AdamOrPlain == 'adam':\n",
    "        mW, mb, mOmega, mMy = getStartMandV(W_k,b_k,omega,my)\n",
    "        vW, vb, vOmega, vMy = getStartMandV(W_k, b_k, omega, my)\n",
    "\n",
    "    elif AdamOrPlain == 'plain':\n",
    "        tau = 0.1\n",
    "    else:\n",
    "        print(\"Må være enten adam eller plain\")\n",
    "\n",
    "    J_list = []\n",
    "\n",
    "    for i in range(n):\n",
    "        Y_k = [images]\n",
    "        for i in range(W_k.shape[0]):\n",
    "            Y_next = findNextYMat(Y_k[-1], W_k[i], b_k[i], h)\n",
    "            Y_k.append(Y_next)\n",
    "\n",
    "        z = findZvalue(Y_k[-1], omega, my)\n",
    "        dJdW, dJdb, dJdOmega, dJdMy = findGradJ(z, W_k, Y_k[:-1], Y_k[-1], omega, labels, my, b_k, h, K)\n",
    "\n",
    "        if AdamOrPlain == 'adam':\n",
    "            mW, vW, JW = adam2(mW, vW, dJdW, i + 1)\n",
    "            mb, vb, Jb = adam2(mb, vb, dJdb, i + 1)\n",
    "            mOmega, vOmega, JOmega = adam2(mOmega, vOmega, dJdOmega, i + 1)\n",
    "            mMy, vMy, JMy = adam2(mMy, vMy, dJdMy, i + 1)\n",
    "\n",
    "            W_k -= JW\n",
    "            b_k -= Jb\n",
    "            omega -= JOmega\n",
    "            my -= JMy\n",
    "\n",
    "        elif AdamOrPlain == 'plain':\n",
    "            W_k, b_k, omega, my = newU(W_k, b_k, omega, my, tau, dJdW, dJdb, dJdOmega, dJdMy)\n",
    "\n",
    "        J_list.append(J(z, labels))\n",
    "\n",
    "    return W_k, b_k, omega, my, z, J_list"
   ]
  },
  {
   "cell_type": "markdown",
   "metadata": {},
   "source": [
    "### 3.1 PIP: Plain vanilla gradient descent"
   ]
  },
  {
   "cell_type": "code",
   "execution_count": 41,
   "metadata": {},
   "outputs": [
    {
     "data": {
      "image/png": "[encoded data removed]",
      "text/plain": [
       "<Figure size 432x288 with 1 Axes>"
      ]
     },
     "metadata": {
      "needs_background": "light"
     },
     "output_type": "display_data"
    },
    {
     "data": {
      "text/plain": [
       "<Figure size 432x288 with 0 Axes>"
      ]
     },
     "metadata": {},
     "output_type": "display_data"
    },
    {
     "name": "stdout",
     "output_type": "stream",
     "text": [
      "Suksessrate for treningsspiral: 0.998\n"
     ]
    }
   ],
   "source": [
    "images, labels = read_spiral_from_file()\n",
    "W_pip_plain, b_pip_plain, omega_pip_plain, my_pip_plain, z_pip_plain, J_pip_plain = trening(images, labels, h = 0.05, n = 1000, AdamOrPlain = 'plain')\n",
    "success_pip_plain = success(z_pip_plain,labels*1)\n",
    "\n",
    "plotJ(J_pip_plain)\n",
    "print(\"Suksessrate for treningsspiral:\",success_pip_plain)"
   ]
  },
  {
   "cell_type": "code",
   "execution_count": 43,
   "metadata": {},
   "outputs": [
    {
     "name": "stdout",
     "output_type": "stream",
     "text": [
      "Suksessrate med testspiral: 0.997\n"
     ]
    },
    {
     "ename": "TypeError",
     "evalue": "plot_model() takes 4 positional arguments but 7 were given",
     "output_type": "error",
     "traceback": [
      "\u001b[1;31m---------------------------------------------------------------------------\u001b[0m",
      "\u001b[1;31mTypeError\u001b[0m                                 Traceback (most recent call last)",
      "\u001b[1;32m<ipython-input-43-235579b736c5>\u001b[0m in \u001b[0;36m<module>\u001b[1;34m\u001b[0m\n\u001b[0;32m      5\u001b[0m \u001b[0mprint\u001b[0m\u001b[1;33m(\u001b[0m\u001b[1;34m\"Suksessrate med testspiral:\"\u001b[0m\u001b[1;33m,\u001b[0m \u001b[0msuccess_test_plain\u001b[0m\u001b[1;33m)\u001b[0m\u001b[1;33m\u001b[0m\u001b[1;33m\u001b[0m\u001b[0m\n\u001b[0;32m      6\u001b[0m \u001b[1;33m\u001b[0m\u001b[0m\n\u001b[1;32m----> 7\u001b[1;33m \u001b[0mplot_model\u001b[0m\u001b[1;33m(\u001b[0m\u001b[0mforward_function\u001b[0m\u001b[1;33m,\u001b[0m \u001b[0mY_test_plain\u001b[0m\u001b[1;33m[\u001b[0m\u001b[1;36m0\u001b[0m\u001b[1;33m]\u001b[0m\u001b[1;33m,\u001b[0m \u001b[0mW_pip_plain\u001b[0m\u001b[1;33m,\u001b[0m \u001b[0mb_pip_plain\u001b[0m\u001b[1;33m,\u001b[0m \u001b[1;36m0.05\u001b[0m\u001b[1;33m,\u001b[0m \u001b[0mlabels_test\u001b[0m\u001b[1;33m*\u001b[0m\u001b[1;36m1\u001b[0m\u001b[1;33m,\u001b[0m \u001b[1;36m200\u001b[0m\u001b[1;33m)\u001b[0m\u001b[1;33m\u001b[0m\u001b[1;33m\u001b[0m\u001b[0m\n\u001b[0m\u001b[0;32m      8\u001b[0m \u001b[0mplot_progression\u001b[0m\u001b[1;33m(\u001b[0m\u001b[0mY_test_plain\u001b[0m\u001b[1;33m,\u001b[0m \u001b[0mlabels_test\u001b[0m\u001b[1;33m*\u001b[0m\u001b[1;36m1\u001b[0m\u001b[1;33m)\u001b[0m\u001b[1;33m\u001b[0m\u001b[1;33m\u001b[0m\u001b[0m\n\u001b[0;32m      9\u001b[0m \u001b[0mplot_separation\u001b[0m\u001b[1;33m(\u001b[0m\u001b[0mlast_function\u001b[0m\u001b[1;33m,\u001b[0m \u001b[0mY_test_plain\u001b[0m\u001b[1;33m[\u001b[0m\u001b[1;33m-\u001b[0m\u001b[1;36m1\u001b[0m\u001b[1;33m]\u001b[0m\u001b[1;33m,\u001b[0m \u001b[0momega_pip_plain\u001b[0m\u001b[1;33m,\u001b[0m \u001b[0mmy_pip_plain\u001b[0m\u001b[1;33m,\u001b[0m \u001b[0mlabels_test\u001b[0m\u001b[1;33m*\u001b[0m\u001b[1;36m1\u001b[0m\u001b[1;33m,\u001b[0m \u001b[1;36m200\u001b[0m\u001b[1;33m)\u001b[0m\u001b[1;33m\u001b[0m\u001b[1;33m\u001b[0m\u001b[0m\n",
      "\u001b[1;31mTypeError\u001b[0m: plot_model() takes 4 positional arguments but 7 were given"
     ]
    }
   ],
   "source": [
    "images_test, labels_test = read_spiral_from_file(filename = 'spiral_text_file2.txt')\n",
    "Y_test_plain = forward_function(images_test, W_pip_plain, b_pip_plain, h = 0.05)\n",
    "z_test_plain = findZvalue(Y_test_plain[-1], omega_pip_plain, my_pip_plain)\n",
    "success_test_plain = success(z_test_plain, labels_test*1)\n",
    "print(\"Suksessrate med testspiral:\", success_test_plain)\n",
    "\n",
    "plot_model(forward_function, Y_test_plain[0], W_pip_plain, b_pip_plain, 0.05, labels_test*1, 200)\n",
    "plot_progression(Y_test_plain, labels_test*1)\n",
    "plot_separation(last_function, Y_test_plain[-1], omega_pip_plain, my_pip_plain, labels_test*1, 200)"
   ]
  },
  {
   "cell_type": "markdown",
   "metadata": {},
   "source": [
    "### 3.2 PIP: ADAM descent"
   ]
  },
  {
   "cell_type": "code",
   "execution_count": null,
   "metadata": {},
   "outputs": [],
   "source": [
    "W_pip_adam, b_pip_adam, omega_pip_adam, my_pip_adam, z_pip_adam, J_pip_adam = trening(images, labels, h = 0.1, n = 2000, AdamOrPlain = 'adam')\n",
    "success_pip_adam = success(z_pip_adam,labels*1)\n",
    "\n",
    "plotJ(J_pip_adam)\n",
    "print(\"Suksessrate:\",success_pip_adam)"
   ]
  },
  {
   "cell_type": "code",
   "execution_count": null,
   "metadata": {},
   "outputs": [],
   "source": [
    "W_pip_adam, b_pip_adam, omega_pip_adam, my_pip_adam = readParams(K = 20, d = 2, filename = 'spiral_adam_2000_it_0.1')\n",
    "print(\"Wohoo\")\n",
    "\n",
    "Y_test_adam = forward_function(images_test, W_pip_adam, b_pip_adam, h = 0.05)\n",
    "z_test_adam = findZvalue(Y_test_adam[-1], omega_pip_adam, my_pip_adam)\n",
    "success_test_adam = success(z_test_adam, labels_test*1)\n",
    "print(\"Suksessrate med testspiral adam:\", success_test_adam)\n",
    "#plot_progression(Y_test_adam, labels_test*1)\n",
    "#plot_separation(findZvalue, Y_test_adam[-1], omega_pip_adam, my_pip_adam, labels_test*1, 200)\n",
    "#plot_model(forward_function, Y_test_adam[0], W_pip_adam, b_pip_adam, 0.1, labels_test*1, 200)"
   ]
  },
  {
   "cell_type": "markdown",
   "metadata": {},
   "source": [
    "# 4. Andre testproblem: Siffergjenkjenning"
   ]
  },
  {
   "cell_type": "code",
   "execution_count": null,
   "metadata": {},
   "outputs": [],
   "source": [
    "def trening_mnist(images, labels, AdamOrPlain = 'plain', n=1000, h = 0.05, K = 20):\n",
    "    d = 28**2\n",
    "    W_k, b_k, omega, my = getRandomParam(d, K)\n",
    "    W_k = np.dot(W_k, 1/(d**2))\n",
    "    omega = np.dot(omega, 1/(d**2))\n",
    "\n",
    "    if AdamOrPlain == 'adam':\n",
    "        mW, mb, mOmega, mMy = getStartMandV(W_k,b_k,omega,my)\n",
    "        vW, vb, vOmega, vMy = getStartMandV(W_k, b_k, omega, my)\n",
    "\n",
    "    elif AdamOrPlain == 'plain':\n",
    "        tau = 0.1\n",
    "    else:\n",
    "        print(\"Må være enten adam eller plain\")\n",
    "\n",
    "    J_list = []\n",
    "\n",
    "    for i in range(n):\n",
    "        chunk_start = random.randint(0, images.shape[1] - 1000)\n",
    "        Y_k = [images[:, chunk_start:chunk_start + 1000]]\n",
    "        J_list.append(J(findZvalue(Y_k[-1], omega, my), labels[chunk_start:chunk_start + 1000]))\n",
    "        for i in range(W_k.shape[0]):\n",
    "            Y_next = findNextYMat(Y_k[-1], W_k[i], b_k[i], h)\n",
    "            Y_k.append(Y_next)\n",
    "        print(\"Ferdig med matrisene.\")\n",
    "\n",
    "        z = findZvalue(Y_k[-1], omega, my)\n",
    "        dJdW, dJdb, dJdOmega, dJdMy = findGradJ(z, W_k, Y_k[:-1], Y_k[-1], omega, labels[chunk_start:chunk_start + 1000], my, b_k, h, K)\n",
    "\n",
    "        if AdamOrPlain == 'adam':\n",
    "            mW, vW, JW = adam2(mW, vW, dJdW, i + 1)\n",
    "            mb, vb, Jb = adam2(mb, vb, dJdb, i + 1)\n",
    "            mOmega, vOmega, JOmega = adam2(mOmega, vOmega, dJdOmega, i + 1)\n",
    "            mMy, vMy, JMy = adam2(mMy, vMy, dJdMy, i + 1)\n",
    "\n",
    "            W_k -= JW\n",
    "            b_k -= Jb\n",
    "            omega -= JOmega\n",
    "            my -= JMy\n",
    "\n",
    "        elif AdamOrPlain == 'plain':\n",
    "            W_k, b_k, omega, my = newU(W_k, b_k, omega, my, tau, dJdW, dJdb, dJdOmega, dJdMy)\n",
    "\n",
    "    J_list.append(J(z, labels[chunk_start:chunk_start + 1000]))\n",
    "\n",
    "    return W_k, b_k, omega, my, z, J_list"
   ]
  },
  {
   "cell_type": "code",
   "execution_count": null,
   "metadata": {},
   "outputs": [],
   "source": [
    "images_mnist, labels_raw_mnist = get_dataset(dataset = 'training')\n",
    "labels_mnist = np.array([label[0]*1 for label in labels_raw_mnist])\n",
    "\n",
    "W_mnist, b_mnist, omega_mnist, my_mnist, z_mnist, J_list_mnist = trening_mnist(images_mnist, labels_mnist, AdamOrPlain = 'adam', n = 10, h = 0.05, K = 3)\n",
    "plotJ(J_list_mnist)"
   ]
  },
  {
   "cell_type": "markdown",
   "metadata": {},
   "source": [
    "Tester MNIST ved å importere testbildene"
   ]
  },
  {
   "cell_type": "code",
   "execution_count": null,
   "metadata": {},
   "outputs": [],
   "source": [
    "test_images, test_labels_raw = get_dataset(dataset = 'testing', digit1 = 2, digit2 = 7)\n",
    "test_labels = np.array([label[0] for label in test_labels_raw])\n",
    "\n",
    "#Tester først med alle treningsbildene\n",
    "Y_mnist = forward_function(images_mnist, W_mnist, b_mnist, h = 0.05)\n",
    "z_mnist = findZvalue(Y_mnist[-1], omega_minst, my_mnist)\n",
    "success_mnist = success(z_mnist, labels_mnist)\n",
    "print(success_mnist)\n",
    "\n",
    "#Tester så med testbildene:\n",
    "Y_mnist_test = forward_function(test_images, W_mnist, b_mnist, h = 0.05)\n",
    "z_mnist_test = findZvalue(Y_mnist_test[-1], omega_mnist, my_mnist)\n",
    "success_mnist_test = success(z_mnist_test, test_labels)\n",
    "print(success_mnist_test)"
   ]
  }
 ],
 "metadata": {
  "kernelspec": {
   "display_name": "Python 3",
   "language": "python",
   "name": "python3"
  },
  "language_info": {
   "codemirror_mode": {
    "name": "ipython",
    "version": 3
   },
   "file_extension": ".py",
   "mimetype": "text/x-python",
   "name": "python",
   "nbconvert_exporter": "python",
   "pygments_lexer": "ipython3",
   "version": "3.7.4"
  }
 },
 "nbformat": 4,
 "nbformat_minor": 2
}
